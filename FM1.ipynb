{
 "cells": [
  {
   "cell_type": "markdown",
   "metadata": {},
   "source": [
    "# [Quick Practice] \n",
    "-----\n",
    "-----\n",
    "## Learning Process - Factorization Machine\n",
    "#### Using xlearn python-wrapper module (https://xlearn-doc.readthedocs.io/en/latest/)\n",
    "\n",
    "- Using Titanic dataset. (https://www.kaggle.com/c/titanic)\n",
    "- Original paper (Steffen Rendle, https://www.csie.ntu.edu.tw/~b97053/paper/Rendle2010FM.pdf)\n",
    "- Basic Conceptual Description for FM in korean (http://yamalab.tistory.com/107)"
   ]
  },
  {
   "cell_type": "markdown",
   "metadata": {},
   "source": [
    "-----\n",
    "-----\n",
    "## Step 1 : transform features (to FM's format)\n",
    "- train/test split on dataframe"
   ]
  },
  {
   "cell_type": "code",
   "execution_count": 7,
   "metadata": {
    "collapsed": true
   },
   "outputs": [],
   "source": [
    "import pandas as pd\n",
    "import numpy as np\n",
    "from sklearn.model_selection import train_test_split"
   ]
  },
  {
   "cell_type": "code",
   "execution_count": 8,
   "metadata": {
    "collapsed": true
   },
   "outputs": [],
   "source": [
    "df1_path = \"../dataset/titanic_dataset.csv\"\n",
    "df2_path = \"../dataset/titanic_answer.csv\""
   ]
  },
  {
   "cell_type": "code",
   "execution_count": 9,
   "metadata": {
    "collapsed": true
   },
   "outputs": [],
   "source": [
    "df1 = pd.read_csv(df1_path)\n",
    "df2 = pd.read_csv(df2_path)\n",
    "df = df1.append(df2)"
   ]
  },
  {
   "cell_type": "code",
   "execution_count": 10,
   "metadata": {},
   "outputs": [
    {
     "name": "stdout",
     "output_type": "stream",
     "text": [
      "(1309, 13)\n"
     ]
    },
    {
     "data": {
      "text/html": [
       "<div>\n",
       "<style scoped>\n",
       "    .dataframe tbody tr th:only-of-type {\n",
       "        vertical-align: middle;\n",
       "    }\n",
       "\n",
       "    .dataframe tbody tr th {\n",
       "        vertical-align: top;\n",
       "    }\n",
       "\n",
       "    .dataframe thead th {\n",
       "        text-align: right;\n",
       "    }\n",
       "</style>\n",
       "<table border=\"1\" class=\"dataframe\">\n",
       "  <thead>\n",
       "    <tr style=\"text-align: right;\">\n",
       "      <th></th>\n",
       "      <th>pclass</th>\n",
       "      <th>survived</th>\n",
       "      <th>name</th>\n",
       "      <th>sex</th>\n",
       "      <th>age</th>\n",
       "      <th>sibsp</th>\n",
       "      <th>parch</th>\n",
       "      <th>ticket</th>\n",
       "      <th>fare</th>\n",
       "      <th>cabin</th>\n",
       "      <th>embarked</th>\n",
       "      <th>body</th>\n",
       "      <th>home.dest</th>\n",
       "    </tr>\n",
       "  </thead>\n",
       "  <tbody>\n",
       "    <tr>\n",
       "      <th>0</th>\n",
       "      <td>2</td>\n",
       "      <td>1</td>\n",
       "      <td>Mellinger, Miss. Madeleine Violet</td>\n",
       "      <td>female</td>\n",
       "      <td>13.0</td>\n",
       "      <td>0</td>\n",
       "      <td>1</td>\n",
       "      <td>250644</td>\n",
       "      <td>19.5000</td>\n",
       "      <td>NaN</td>\n",
       "      <td>S</td>\n",
       "      <td>NaN</td>\n",
       "      <td>England / Bennington, VT</td>\n",
       "    </tr>\n",
       "    <tr>\n",
       "      <th>1</th>\n",
       "      <td>2</td>\n",
       "      <td>1</td>\n",
       "      <td>Wells, Miss. Joan</td>\n",
       "      <td>female</td>\n",
       "      <td>4.0</td>\n",
       "      <td>1</td>\n",
       "      <td>1</td>\n",
       "      <td>29103</td>\n",
       "      <td>23.0000</td>\n",
       "      <td>NaN</td>\n",
       "      <td>S</td>\n",
       "      <td>NaN</td>\n",
       "      <td>Cornwall / Akron, OH</td>\n",
       "    </tr>\n",
       "    <tr>\n",
       "      <th>2</th>\n",
       "      <td>2</td>\n",
       "      <td>1</td>\n",
       "      <td>Duran y More, Miss. Florentina</td>\n",
       "      <td>female</td>\n",
       "      <td>30.0</td>\n",
       "      <td>1</td>\n",
       "      <td>0</td>\n",
       "      <td>SC/PARIS 2148</td>\n",
       "      <td>13.8583</td>\n",
       "      <td>NaN</td>\n",
       "      <td>C</td>\n",
       "      <td>NaN</td>\n",
       "      <td>Barcelona, Spain / Havana, Cuba</td>\n",
       "    </tr>\n",
       "    <tr>\n",
       "      <th>3</th>\n",
       "      <td>3</td>\n",
       "      <td>0</td>\n",
       "      <td>Scanlan, Mr. James</td>\n",
       "      <td>male</td>\n",
       "      <td>NaN</td>\n",
       "      <td>0</td>\n",
       "      <td>0</td>\n",
       "      <td>36209</td>\n",
       "      <td>7.7250</td>\n",
       "      <td>NaN</td>\n",
       "      <td>Q</td>\n",
       "      <td>NaN</td>\n",
       "      <td>NaN</td>\n",
       "    </tr>\n",
       "    <tr>\n",
       "      <th>4</th>\n",
       "      <td>3</td>\n",
       "      <td>1</td>\n",
       "      <td>Bradley, Miss. Bridget Delia</td>\n",
       "      <td>female</td>\n",
       "      <td>22.0</td>\n",
       "      <td>0</td>\n",
       "      <td>0</td>\n",
       "      <td>334914</td>\n",
       "      <td>7.7250</td>\n",
       "      <td>NaN</td>\n",
       "      <td>Q</td>\n",
       "      <td>NaN</td>\n",
       "      <td>Kingwilliamstown, Co Cork, Ireland Glens Falls...</td>\n",
       "    </tr>\n",
       "  </tbody>\n",
       "</table>\n",
       "</div>"
      ],
      "text/plain": [
       "   pclass  survived                               name     sex   age  sibsp  \\\n",
       "0       2         1  Mellinger, Miss. Madeleine Violet  female  13.0      0   \n",
       "1       2         1                  Wells, Miss. Joan  female   4.0      1   \n",
       "2       2         1     Duran y More, Miss. Florentina  female  30.0      1   \n",
       "3       3         0                 Scanlan, Mr. James    male   NaN      0   \n",
       "4       3         1       Bradley, Miss. Bridget Delia  female  22.0      0   \n",
       "\n",
       "   parch         ticket     fare cabin embarked  body  \\\n",
       "0      1         250644  19.5000   NaN        S   NaN   \n",
       "1      1          29103  23.0000   NaN        S   NaN   \n",
       "2      0  SC/PARIS 2148  13.8583   NaN        C   NaN   \n",
       "3      0          36209   7.7250   NaN        Q   NaN   \n",
       "4      0         334914   7.7250   NaN        Q   NaN   \n",
       "\n",
       "                                           home.dest  \n",
       "0                           England / Bennington, VT  \n",
       "1                               Cornwall / Akron, OH  \n",
       "2                    Barcelona, Spain / Havana, Cuba  \n",
       "3                                                NaN  \n",
       "4  Kingwilliamstown, Co Cork, Ireland Glens Falls...  "
      ]
     },
     "execution_count": 10,
     "metadata": {},
     "output_type": "execute_result"
    }
   ],
   "source": [
    "print(df.shape)\n",
    "df.head()"
   ]
  },
  {
   "cell_type": "code",
   "execution_count": 11,
   "metadata": {
    "collapsed": true
   },
   "outputs": [],
   "source": [
    "def age_discretize(x):\n",
    "    if x == np.nan:\n",
    "        return '10'\n",
    "    else:\n",
    "        x = int(x)\n",
    "        if x < 10:\n",
    "            return '1'\n",
    "        elif x < 20 and x >= 10:\n",
    "            return '2'\n",
    "        elif x < 30 and x >= 20:\n",
    "            return '3'\n",
    "        elif x < 40 and x >= 30:\n",
    "            return '4'\n",
    "        elif x < 50 and x >= 40:\n",
    "            return '5'\n",
    "        elif x < 60 and x >= 50:\n",
    "            return '6'\n",
    "        elif x < 70 and x >= 60:\n",
    "            return '7'\n",
    "        elif x < 80 and x >= 70:\n",
    "            return '8'\n",
    "        elif x < 90 and x >= 80:\n",
    "            return '9'\n",
    "        else:\n",
    "            return '10'\n",
    "\n",
    "def fare_discretize(x):\n",
    "    if x < 10:\n",
    "        return '1'\n",
    "    elif x < 20 and x >= 10:\n",
    "        return '2'\n",
    "    elif x < 30 and x >= 20:\n",
    "        return '3'\n",
    "    elif x < 40 and x >= 30:\n",
    "        return '4'\n",
    "    elif x < 50 and x >= 40:\n",
    "        return '5'\n",
    "    elif x < 60 and x >= 50:\n",
    "        return '6'\n",
    "    elif x < 70 and x >= 60:\n",
    "        return '7'\n",
    "    elif x < 80 and x >= 70:\n",
    "        return '8'\n",
    "    elif x < 90 and x >= 80:\n",
    "        return '9'\n",
    "    else:\n",
    "        return '10'"
   ]
  },
  {
   "cell_type": "markdown",
   "metadata": {},
   "source": [
    "-----\n",
    "-----\n",
    "- feature discretize"
   ]
  },
  {
   "cell_type": "code",
   "execution_count": 12,
   "metadata": {
    "collapsed": true
   },
   "outputs": [],
   "source": [
    "df = df[['survived', 'pclass', 'sex', 'age', 'sibsp', 'parch', 'fare']]\n",
    "df = df.dropna()"
   ]
  },
  {
   "cell_type": "code",
   "execution_count": 13,
   "metadata": {
    "collapsed": true
   },
   "outputs": [],
   "source": [
    "df['sex'] = df['sex'].apply(lambda x: '1' if x == \"female\" else '0')\n",
    "df['age'] = df['age'].apply(lambda x: age_discretize(x))\n",
    "df['fare'] = df['fare'].apply(lambda x: fare_discretize(int(x)))"
   ]
  },
  {
   "cell_type": "code",
   "execution_count": 14,
   "metadata": {
    "collapsed": true
   },
   "outputs": [],
   "source": [
    "df['survived'] = df['survived'].astype('str')\n",
    "df['pclass'] = df['pclass'].astype('str')\n",
    "df['sibsp'] = df['sibsp'].astype('str')\n",
    "df['parch'] = df['parch'].astype('str')"
   ]
  },
  {
   "cell_type": "code",
   "execution_count": 15,
   "metadata": {},
   "outputs": [
    {
     "data": {
      "text/html": [
       "<div>\n",
       "<style scoped>\n",
       "    .dataframe tbody tr th:only-of-type {\n",
       "        vertical-align: middle;\n",
       "    }\n",
       "\n",
       "    .dataframe tbody tr th {\n",
       "        vertical-align: top;\n",
       "    }\n",
       "\n",
       "    .dataframe thead th {\n",
       "        text-align: right;\n",
       "    }\n",
       "</style>\n",
       "<table border=\"1\" class=\"dataframe\">\n",
       "  <thead>\n",
       "    <tr style=\"text-align: right;\">\n",
       "      <th></th>\n",
       "      <th>survived</th>\n",
       "      <th>pclass</th>\n",
       "      <th>sex</th>\n",
       "      <th>age</th>\n",
       "      <th>sibsp</th>\n",
       "      <th>parch</th>\n",
       "      <th>fare</th>\n",
       "    </tr>\n",
       "  </thead>\n",
       "  <tbody>\n",
       "    <tr>\n",
       "      <th>0</th>\n",
       "      <td>1</td>\n",
       "      <td>2</td>\n",
       "      <td>1</td>\n",
       "      <td>2</td>\n",
       "      <td>0</td>\n",
       "      <td>1</td>\n",
       "      <td>2</td>\n",
       "    </tr>\n",
       "    <tr>\n",
       "      <th>1</th>\n",
       "      <td>1</td>\n",
       "      <td>2</td>\n",
       "      <td>1</td>\n",
       "      <td>1</td>\n",
       "      <td>1</td>\n",
       "      <td>1</td>\n",
       "      <td>3</td>\n",
       "    </tr>\n",
       "    <tr>\n",
       "      <th>2</th>\n",
       "      <td>1</td>\n",
       "      <td>2</td>\n",
       "      <td>1</td>\n",
       "      <td>4</td>\n",
       "      <td>1</td>\n",
       "      <td>0</td>\n",
       "      <td>2</td>\n",
       "    </tr>\n",
       "    <tr>\n",
       "      <th>4</th>\n",
       "      <td>1</td>\n",
       "      <td>3</td>\n",
       "      <td>1</td>\n",
       "      <td>3</td>\n",
       "      <td>0</td>\n",
       "      <td>0</td>\n",
       "      <td>1</td>\n",
       "    </tr>\n",
       "    <tr>\n",
       "      <th>6</th>\n",
       "      <td>1</td>\n",
       "      <td>1</td>\n",
       "      <td>1</td>\n",
       "      <td>4</td>\n",
       "      <td>0</td>\n",
       "      <td>0</td>\n",
       "      <td>6</td>\n",
       "    </tr>\n",
       "  </tbody>\n",
       "</table>\n",
       "</div>"
      ],
      "text/plain": [
       "  survived pclass sex age sibsp parch fare\n",
       "0        1      2   1   2     0     1    2\n",
       "1        1      2   1   1     1     1    3\n",
       "2        1      2   1   4     1     0    2\n",
       "4        1      3   1   3     0     0    1\n",
       "6        1      1   1   4     0     0    6"
      ]
     },
     "execution_count": 15,
     "metadata": {},
     "output_type": "execute_result"
    }
   ],
   "source": [
    "df.head()"
   ]
  },
  {
   "cell_type": "markdown",
   "metadata": {},
   "source": [
    "- feature encoding (feature's discretized value must be range 1 ~ n)"
   ]
  },
  {
   "cell_type": "code",
   "execution_count": 16,
   "metadata": {
    "collapsed": true
   },
   "outputs": [],
   "source": [
    "# make discretized label to 1~n dict\n",
    "def make_encoding_label_dict(col_unique):\n",
    "    encoded_dict = {}\n",
    "    for idx, unique in enumerate(col_unique):\n",
    "        encoded_dict[unique] = idx + 1\n",
    "\n",
    "    return encoded_dict\n",
    "\n",
    "\n",
    "# get new encoding result\n",
    "def get_newcode(key, label_dict):\n",
    "    com_len = len(label_dict)\n",
    "    if key == np.nan:\n",
    "        return\n",
    "    else:\n",
    "        if key in label_dict:\n",
    "            return label_dict[key]\n",
    "        else:\n",
    "            return com_len + 1"
   ]
  },
  {
   "cell_type": "code",
   "execution_count": 17,
   "metadata": {
    "collapsed": true
   },
   "outputs": [],
   "source": [
    "encoded_sibsp_dict = make_encoding_label_dict(df.sibsp.value_counts().index.tolist())\n",
    "encoded_parch_dict = make_encoding_label_dict(df.parch.value_counts().index.tolist())"
   ]
  },
  {
   "cell_type": "code",
   "execution_count": 18,
   "metadata": {
    "collapsed": true
   },
   "outputs": [],
   "source": [
    "df['sibsp'] = df['sibsp'].apply(lambda x: get_newcode(x, encoded_sibsp_dict))\n",
    "df['parch'] = df['parch'].apply(lambda x: get_newcode(x, encoded_parch_dict))"
   ]
  },
  {
   "cell_type": "code",
   "execution_count": 19,
   "metadata": {},
   "outputs": [
    {
     "data": {
      "text/html": [
       "<div>\n",
       "<style scoped>\n",
       "    .dataframe tbody tr th:only-of-type {\n",
       "        vertical-align: middle;\n",
       "    }\n",
       "\n",
       "    .dataframe tbody tr th {\n",
       "        vertical-align: top;\n",
       "    }\n",
       "\n",
       "    .dataframe thead th {\n",
       "        text-align: right;\n",
       "    }\n",
       "</style>\n",
       "<table border=\"1\" class=\"dataframe\">\n",
       "  <thead>\n",
       "    <tr style=\"text-align: right;\">\n",
       "      <th></th>\n",
       "      <th>survived</th>\n",
       "      <th>pclass</th>\n",
       "      <th>sex</th>\n",
       "      <th>age</th>\n",
       "      <th>sibsp</th>\n",
       "      <th>parch</th>\n",
       "      <th>fare</th>\n",
       "    </tr>\n",
       "  </thead>\n",
       "  <tbody>\n",
       "    <tr>\n",
       "      <th>0</th>\n",
       "      <td>1</td>\n",
       "      <td>2</td>\n",
       "      <td>1</td>\n",
       "      <td>2</td>\n",
       "      <td>1</td>\n",
       "      <td>2</td>\n",
       "      <td>2</td>\n",
       "    </tr>\n",
       "    <tr>\n",
       "      <th>1</th>\n",
       "      <td>1</td>\n",
       "      <td>2</td>\n",
       "      <td>1</td>\n",
       "      <td>1</td>\n",
       "      <td>2</td>\n",
       "      <td>2</td>\n",
       "      <td>3</td>\n",
       "    </tr>\n",
       "    <tr>\n",
       "      <th>2</th>\n",
       "      <td>1</td>\n",
       "      <td>2</td>\n",
       "      <td>1</td>\n",
       "      <td>4</td>\n",
       "      <td>2</td>\n",
       "      <td>1</td>\n",
       "      <td>2</td>\n",
       "    </tr>\n",
       "    <tr>\n",
       "      <th>4</th>\n",
       "      <td>1</td>\n",
       "      <td>3</td>\n",
       "      <td>1</td>\n",
       "      <td>3</td>\n",
       "      <td>1</td>\n",
       "      <td>1</td>\n",
       "      <td>1</td>\n",
       "    </tr>\n",
       "    <tr>\n",
       "      <th>6</th>\n",
       "      <td>1</td>\n",
       "      <td>1</td>\n",
       "      <td>1</td>\n",
       "      <td>4</td>\n",
       "      <td>1</td>\n",
       "      <td>1</td>\n",
       "      <td>6</td>\n",
       "    </tr>\n",
       "  </tbody>\n",
       "</table>\n",
       "</div>"
      ],
      "text/plain": [
       "  survived pclass sex age  sibsp  parch fare\n",
       "0        1      2   1   2      1      2    2\n",
       "1        1      2   1   1      2      2    3\n",
       "2        1      2   1   4      2      1    2\n",
       "4        1      3   1   3      1      1    1\n",
       "6        1      1   1   4      1      1    6"
      ]
     },
     "execution_count": 19,
     "metadata": {},
     "output_type": "execute_result"
    }
   ],
   "source": [
    "df.head()"
   ]
  },
  {
   "cell_type": "code",
   "execution_count": 20,
   "metadata": {},
   "outputs": [
    {
     "data": {
      "text/plain": [
       "0    658\n",
       "1    388\n",
       "Name: sex, dtype: int64"
      ]
     },
     "execution_count": 20,
     "metadata": {},
     "output_type": "execute_result"
    }
   ],
   "source": [
    "df.sex.value_counts()"
   ]
  },
  {
   "cell_type": "markdown",
   "metadata": {},
   "source": [
    "-----\n",
    "-----\n",
    "### save as xlearn's fm input type\n",
    "###### output = label index_1:value_1 index_2:value_2 ... index_n:value_n"
   ]
  },
  {
   "cell_type": "markdown",
   "metadata": {},
   "source": [
    "- make dicts for sparse marking"
   ]
  },
  {
   "cell_type": "code",
   "execution_count": 21,
   "metadata": {
    "collapsed": true
   },
   "outputs": [],
   "source": [
    "col_len_dict = {'pclass': 3, 'sex': 1, 'age': 9, 'sibsp': 7, 'parch': 7, 'fare': 10}\n",
    "col_accum_index_dict = {}\n",
    "cumulative = 0\n",
    "for key, value in col_len_dict.items():\n",
    "    col_accum_index_dict[key] = cumulative\n",
    "    cumulative = cumulative + value\n",
    "\n",
    "train_df, test_df = train_test_split(df, test_size=0.2)"
   ]
  },
  {
   "cell_type": "markdown",
   "metadata": {},
   "source": [
    "- mark idx:val, with sparse matrix format"
   ]
  },
  {
   "cell_type": "code",
   "execution_count": 22,
   "metadata": {
    "collapsed": true
   },
   "outputs": [],
   "source": [
    "txt_file = open('../dataset/train.txt', 'w')\n",
    "for idx, row in train_df.iterrows():\n",
    "    vec = []\n",
    "    label = row['survived']\n",
    "    vec.append(str(label))\n",
    "    row = row.drop(labels=['survived'])\n",
    "    for key, value in row.items():\n",
    "        if col_len_dict[key] == 1:\n",
    "            if value != '0':\n",
    "                col_idx = col_accum_index_dict[key]\n",
    "                out_val = value\n",
    "                vec.append(str(col_idx) + \":\" + str(out_val))\n",
    "        else:\n",
    "            col_idx = col_accum_index_dict[key] + (int(value) - 1)\n",
    "            out_val = 1\n",
    "            vec.append(str(col_idx) + \":\" + str(out_val))\n",
    "    txt_file.write(\"%s\\n\" % \" \".join(vec))\n",
    "txt_file.close()"
   ]
  },
  {
   "cell_type": "code",
   "execution_count": 23,
   "metadata": {
    "collapsed": true
   },
   "outputs": [],
   "source": [
    "txt_file = open('../dataset/test.txt', 'w')\n",
    "for idx, row in test_df.iterrows():\n",
    "    vec = []\n",
    "    label = row['survived']\n",
    "    vec.append(str(label))\n",
    "    row = row.drop(labels=['survived'])\n",
    "    for key, value in row.items():\n",
    "        if col_len_dict[key] == 1:\n",
    "            if value != '0':\n",
    "                col_idx = col_accum_index_dict[key]\n",
    "                out_val = value\n",
    "                vec.append(str(col_idx) + \":\" + str(out_val))\n",
    "        else:\n",
    "            col_idx = col_accum_index_dict[key] + (int(value) - 1)\n",
    "            out_val = 1\n",
    "            vec.append(str(col_idx) + \":\" + str(out_val))\n",
    "    txt_file.write(\"%s\\n\" % \" \".join(vec))\n",
    "txt_file.close()"
   ]
  },
  {
   "cell_type": "markdown",
   "metadata": {},
   "source": [
    "-----\n",
    "-----\n",
    "## Step 2 : Train Factorization Machine\n",
    "- test accuracy/auc is just fine. process works well!"
   ]
  },
  {
   "cell_type": "code",
   "execution_count": 24,
   "metadata": {
    "collapsed": true
   },
   "outputs": [],
   "source": [
    "import xlearn as xl\n",
    "\n",
    "def test():\n",
    "    fm_model = xl.create_fm()\n",
    "\n",
    "    train_path = '../dataset/train.txt'\n",
    "    test_path = '../dataset/test.txt'\n",
    "\n",
    "\n",
    "    fm_model.setTrain(train_path)\n",
    "    fm_model.setValidate(test_path)\n",
    "\n",
    "    # Parameters:\n",
    "    param = {'task':'binary',\n",
    "             'epoch': 10,\n",
    "             'lr':0.2,\n",
    "             'lambda':0.002,\n",
    "             'metric': 'auc'}\n",
    "\n",
    "    # Start to train\n",
    "    # The trained model will be stored in model.out\n",
    "    fm_model.fit(param, './model.out')\n",
    "    fm_model.setTXTModel('./model.txt')\n",
    "\n",
    "    # Prediction task\n",
    "    fm_model.setTest(test_path)  # Set the path of test dataset\n",
    "    fm_model.setSigmoid()                 # Convert output to 0-1\n",
    "\n",
    "    # Start to predict\n",
    "    # The output result will be stored in output.txt\n",
    "    fm_model.predict(\"./model.out\", \"./output.txt\")"
   ]
  },
  {
   "cell_type": "code",
   "execution_count": 25,
   "metadata": {
    "collapsed": true
   },
   "outputs": [],
   "source": [
    "test()"
   ]
  },
  {
   "cell_type": "code",
   "execution_count": 26,
   "metadata": {
    "collapsed": true
   },
   "outputs": [],
   "source": [
    "# [------------] Epoch      Train log_loss       Test log_loss            Test AUC     Time cost (sec)\n",
    "# [   10%      ]     1            0.585323            0.517724            0.861508                0.07\n",
    "# [   20%      ]     2            0.532670            0.479222            0.878329                0.03\n",
    "# [   30%      ]     3            0.514772            0.464327            0.884684                0.03\n",
    "# [   40%      ]     4            0.505971            0.457235            0.886833                0.03\n",
    "# [   50%      ]     5            0.500067            0.451201            0.889263                0.03\n",
    "# [   60%      ]     6            0.495272            0.446077            0.890384                0.03\n",
    "# [   70%      ]     7            0.490828            0.445277            0.890571                0.03\n",
    "# [   80%      ]     8            0.489121            0.440604            0.891973                0.03\n",
    "# [   90%      ]     9            0.487465            0.440109            0.891879                0.03\n",
    "# [  100%      ]    10            0.485841            0.437609            0.894309                0.03"
   ]
  },
  {
   "cell_type": "markdown",
   "metadata": {},
   "source": [
    "-----\n",
    "-----\n",
    "## Step 3 : FFM (Field aware Factorization Machine) Practice\n",
    "- Using xlearn module, train ffm model same as fm."
   ]
  },
  {
   "cell_type": "markdown",
   "metadata": {},
   "source": [
    "-----\n",
    "### input type is diffrent with fm or lm.\n",
    "###### output = label field_1:index_1:value_1 field_2:index_2:value_2 ..."
   ]
  },
  {
   "cell_type": "code",
   "execution_count": 27,
   "metadata": {
    "collapsed": true
   },
   "outputs": [],
   "source": [
    "field_dict = {\"Financial\": \"0\",\n",
    "              \"Demography\": \"1\",\n",
    "              \"Family\": \"2\"}\n",
    "mapping_dict = {\"pclass\": \"Financial\", \"fare\": \"Financial\", \n",
    "                \"sex\": \"Demography\", \"age\": \"Demography\", \n",
    "                \"sibsp\": \"Family\", \"parch\": \"Family\"}\n",
    "col_len_dict = {'pclass': 3, 'sex': 1, 'age': 9, 'sibsp': 7, 'parch': 7, 'fare': 10}\n",
    "col_accum_index_dict = {}\n",
    "cumulative = 0\n",
    "for key, value in col_len_dict.items():\n",
    "    col_accum_index_dict[key] = cumulative\n",
    "    cumulative = cumulative + value"
   ]
  },
  {
   "cell_type": "code",
   "execution_count": 28,
   "metadata": {
    "collapsed": true
   },
   "outputs": [],
   "source": [
    "txt_file = open('../dataset/train_ffm.txt', 'w')\n",
    "for idx, row in train_df.iterrows():\n",
    "    vec = []\n",
    "    label = row['survived']\n",
    "    vec.append(str(label))\n",
    "    row = row.drop(labels=['survived'])\n",
    "    for key, value in row.items():\n",
    "        if col_len_dict[key] == 1:\n",
    "            if value != '0':\n",
    "                col_idx = col_accum_index_dict[key]\n",
    "                out_val = value\n",
    "                vec.append(field_dict[mapping_dict[key]] + \":\" + str(col_idx) + \":\" + str(out_val))\n",
    "        else:\n",
    "            col_idx = col_accum_index_dict[key] + (int(value) - 1)\n",
    "            out_val = 1\n",
    "            vec.append(field_dict[mapping_dict[key]] + \":\" + str(col_idx) + \":\" + str(out_val))\n",
    "    txt_file.write(\"%s\\n\" % \" \".join(vec))\n",
    "txt_file.close()"
   ]
  },
  {
   "cell_type": "code",
   "execution_count": 29,
   "metadata": {
    "collapsed": true
   },
   "outputs": [],
   "source": [
    "txt_file = open('../dataset/test_ffm.txt', 'w')\n",
    "for idx, row in test_df.iterrows():\n",
    "    vec = []\n",
    "    label = row['survived']\n",
    "    vec.append(str(label))\n",
    "    row = row.drop(labels=['survived'])\n",
    "    for key, value in row.items():\n",
    "        if col_len_dict[key] == 1:\n",
    "            if value != '0':\n",
    "                col_idx = col_accum_index_dict[key]\n",
    "                out_val = value\n",
    "                vec.append(field_dict[mapping_dict[key]] + \":\" + str(col_idx) + \":\" + str(out_val))\n",
    "        else:\n",
    "            col_idx = col_accum_index_dict[key] + (int(value) - 1)\n",
    "            out_val = 1\n",
    "            vec.append(field_dict[mapping_dict[key]] + \":\" + str(col_idx) + \":\" + str(out_val))\n",
    "    txt_file.write(\"%s\\n\" % \" \".join(vec))\n",
    "txt_file.close()"
   ]
  },
  {
   "cell_type": "markdown",
   "metadata": {},
   "source": [
    "-----\n",
    "-----\n",
    "- train FFM model : it works well too. \n",
    "- FFM models work better than FM if the fields are clearly separated"
   ]
  },
  {
   "cell_type": "code",
   "execution_count": 30,
   "metadata": {
    "collapsed": true
   },
   "outputs": [],
   "source": [
    "import xlearn as xl\n",
    "\n",
    "def test2():\n",
    "    ffm_model = xl.create_ffm()\n",
    "\n",
    "    train_path = '../dataset/train_ffm.txt'\n",
    "    test_path = '../dataset/test_ffm.txt'\n",
    "\n",
    "\n",
    "    ffm_model.setTrain(train_path)\n",
    "    ffm_model.setValidate(test_path)\n",
    "\n",
    "    # Parameters:\n",
    "    param = {'task':'binary',\n",
    "             'epoch': 10,\n",
    "             'lr':0.2,\n",
    "             'lambda':0.002,\n",
    "             'metric': 'auc', \n",
    "             'opt':'sgd'}\n",
    "\n",
    "    # Start to train\n",
    "    # The trained model will be stored in model.out\n",
    "    ffm_model.fit(param, './model.out')\n",
    "    ffm_model.setTXTModel('./model.txt')\n",
    "\n",
    "    # Prediction task\n",
    "    ffm_model.setTest(test_path)  # Set the path of test dataset\n",
    "    ffm_model.setSigmoid()                 # Convert output to 0-1\n",
    "\n",
    "    # Start to predict\n",
    "    # The output result will be stored in output.txt\n",
    "    ffm_model.predict(\"./model.out\", \"./output.txt\")"
   ]
  },
  {
   "cell_type": "code",
   "execution_count": 31,
   "metadata": {
    "collapsed": true
   },
   "outputs": [],
   "source": [
    "test2()"
   ]
  },
  {
   "cell_type": "code",
   "execution_count": 32,
   "metadata": {
    "collapsed": true
   },
   "outputs": [],
   "source": [
    "# [------------] Epoch      Train log_loss       Test log_loss            Test AUC     Time cost (sec)\n",
    "# [   10%      ]     1            0.557265            0.439284            0.893001                0.05\n",
    "# [   20%      ]     2            0.495380            0.413676            0.900850                0.03\n",
    "# [   30%      ]     3            0.467982            0.444183            0.905616                0.03\n",
    "# [   40%      ]     4            0.463426            0.427557            0.909354                0.03\n",
    "# [   50%      ]     5            0.459838            0.446707            0.901131                0.03\n",
    "# [   60%      ]     6            0.452319            0.447469            0.908233                0.03\n",
    "# [   70%      ]     7            0.447234            0.445043            0.902719                0.03\n",
    "# [   80%      ]     8            0.451769            0.393457            0.903187                0.03\n",
    "# [   90%      ]     9            0.443482            0.397095            0.899542                0.03\n",
    "# [  100%      ]    10            0.441640            0.384864            0.905616                0.03"
   ]
  },
  {
   "cell_type": "markdown",
   "metadata": {},
   "source": [
    "-----\n",
    "-----\n",
    "### Step 4 : Hyper-paramter Tuning\n",
    "- various tuning methods"
   ]
  },
  {
   "cell_type": "code",
   "execution_count": 27,
   "metadata": {
    "collapsed": true
   },
   "outputs": [],
   "source": [
    "import xlearn as xl\n",
    "\n",
    "def test3():\n",
    "    ffm_model = xl.create_ffm()\n",
    "\n",
    "    train_path = '../dataset/train_ffm.txt'\n",
    "    test_path = '../dataset/test_ffm.txt'\n",
    "\n",
    "\n",
    "    ffm_model.setTrain(train_path)\n",
    "    ffm_model.setValidate(test_path)\n",
    "\n",
    "    # Parameters:\n",
    "    param = {'task':'binary',\n",
    "             'epoch': 30,\n",
    "             'lr':0.2, # learning rate\n",
    "             'lambda':0.002, # L2 parameter\n",
    "             'metric': 'auc',\n",
    "             'opt':'sgd', # optimizer\n",
    "             'stop_window':3, # early-stopping window size\n",
    "             'fold':3} # k-fold parameter\n",
    "    \n",
    "    # k-fold cross-validation\n",
    "    ffm_model.cv(param)\n",
    "\n",
    "    # Start to train\n",
    "    # The trained model will be stored in model.out\n",
    "    ffm_model.fit(param, './model.out')\n",
    "    ffm_model.setTXTModel('./model.txt')\n",
    "\n",
    "    # Prediction task\n",
    "    ffm_model.setTest(test_path)  # Set the path of test dataset\n",
    "    ffm_model.setSigmoid()                 # Convert output to 0-1\n",
    "\n",
    "    # Start to predict\n",
    "    # The output result will be stored in output.txt\n",
    "    ffm_model.predict(\"./model.out\", \"./output.txt\")"
   ]
  },
  {
   "cell_type": "code",
   "execution_count": 28,
   "metadata": {
    "collapsed": true
   },
   "outputs": [],
   "source": [
    "test3()"
   ]
  },
  {
   "cell_type": "code",
   "execution_count": 29,
   "metadata": {
    "collapsed": true
   },
   "outputs": [],
   "source": [
    "# [------------] Epoch      Train log_loss       Test log_loss            Test AUC     Time cost (sec)\n",
    "# [    3%      ]     1            0.546296            0.432907            0.890291                0.04\n",
    "# [    6%      ]     2            0.493454            0.432527            0.903000                0.03\n",
    "# [   10%      ]     3            0.469055            0.429376            0.897486                0.03\n",
    "# [   13%      ]     4            0.460795            0.497076            0.905243                0.03\n",
    "# [   16%      ]     5            0.460834            0.399953            0.910289                0.03\n",
    "# [   20%      ]     6            0.454425            0.403551            0.906270                0.03\n",
    "# [   23%      ]     7            0.451007            0.393322            0.899168                0.03\n",
    "# [   26%      ]     8            0.445749            0.461010            0.886366                0.03\n",
    "# [   30%      ]     9            0.447690            0.406205            0.901691                0.03\n",
    "# [   33%      ]    10            0.441299            0.400010            0.900570                0.04\n",
    "# [   36%      ]    11            0.443144            0.414139            0.902252                0.04\n",
    "# [   40%      ]    12            0.438947            0.396157            0.903560                0.04\n",
    "# [   43%      ]    13            0.442649            0.389896            0.904588                0.03\n",
    "# [   46%      ]    14            0.446762            0.385900            0.911690                0.03\n",
    "# [   50%      ]    15            0.440703            0.402541            0.904215                0.03\n",
    "# [   53%      ]    16            0.443890            0.401996            0.913653                0.03\n",
    "# [   56%      ]    17            0.436985            0.397561            0.903841                0.03\n",
    "# [   60%      ]    18            0.436276            0.398204            0.900383                0.03\n",
    "# [   63%      ]    19            0.436306            0.391577            0.909448                0.03\n",
    "# [   66%      ]    20            0.441049            0.382979            0.905336                0.03\n",
    "# [   70%      ]    21            0.441182            0.406859            0.905803                0.03\n",
    "# [   73%      ]    22            0.432891            0.397659            0.907111                0.03\n",
    "# [   76%      ]    23            0.429748            0.411565            0.911690                0.03\n",
    "# [   80%      ]    24            0.429877            0.388347            0.909822                0.03\n",
    "# [   83%      ]    25            0.437763            0.387214            0.911597                0.03\n",
    "# [   86%      ]    26            0.429573            0.419523            0.911223                0.03\n",
    "# [   90%      ]    27            0.429604            0.396298            0.908513                0.03\n",
    "# [   93%      ]    28            0.428271            0.396823            0.908139                0.03\n",
    "# [   96%      ]    29            0.426560            0.421723            0.908046                0.03\n",
    "# [  100%      ]    30            0.428501            0.401748            0.904682                0.03"
   ]
  },
  {
   "cell_type": "markdown",
   "metadata": {},
   "source": [
    "-----\n",
    "-----\n",
    "### Step 5 : Calculate AUC"
   ]
  },
  {
   "cell_type": "code",
   "execution_count": 50,
   "metadata": {
    "collapsed": true
   },
   "outputs": [],
   "source": [
    "validate_data_file = \"../dataset/test.txt\"\n",
    "predicted_file = \"output.txt\""
   ]
  },
  {
   "cell_type": "code",
   "execution_count": 57,
   "metadata": {
    "collapsed": true
   },
   "outputs": [],
   "source": [
    "with open(validate_data_file) as fp:  \n",
    "    valid_data_ndarray = np.array([int(line[0]) for line in fp.readlines()])\n",
    "    \n",
    "with open(predicted_file) as fp:\n",
    "    content = fp.readlines()\n",
    "    predicted_data_ndarray = np.array([float(line.strip()) for line in content])"
   ]
  },
  {
   "cell_type": "code",
   "execution_count": 58,
   "metadata": {},
   "outputs": [
    {
     "data": {
      "text/plain": [
       "0.8806647985312591"
      ]
     },
     "execution_count": 58,
     "metadata": {},
     "output_type": "execute_result"
    }
   ],
   "source": [
    "from sklearn.metrics import roc_auc_score\n",
    "\n",
    "roc_auc_score(valid_data_ndarray, predicted_data_ndarray)"
   ]
  },
  {
   "cell_type": "markdown",
   "metadata": {},
   "source": [
    "-----\n",
    "-----\n",
    "### Step 6 : Logging learning process"
   ]
  },
  {
   "cell_type": "code",
   "execution_count": 70,
   "metadata": {},
   "outputs": [
    {
     "data": {
      "text/plain": [
       "0"
      ]
     },
     "execution_count": 70,
     "metadata": {},
     "output_type": "execute_result"
    }
   ],
   "source": [
    "import subprocess\n",
    "import sys\n",
    "\n",
    "log_path = './log.txt'\n",
    "sys.stdout = open(log_path, 'w')\n",
    "subprocess.call('/anaconda3/envs/yoon/bin/python3.6 /Users/admin/Documents/github-workspace/recommender-system/factorization-machine/runner.py',\n",
    "                stdout=sys.stdout, stderr=subprocess.STDOUT, shell=True)"
   ]
  }
 ],
 "metadata": {
  "kernelspec": {
   "display_name": "Python 3",
   "language": "python",
   "name": "python3"
  },
  "language_info": {
   "codemirror_mode": {
    "name": "ipython",
    "version": 3
   },
   "file_extension": ".py",
   "mimetype": "text/x-python",
   "name": "python",
   "nbconvert_exporter": "python",
   "pygments_lexer": "ipython3",
   "version": "3.5.3"
  }
 },
 "nbformat": 4,
 "nbformat_minor": 2
}
