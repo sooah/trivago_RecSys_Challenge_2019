{
 "cells": [
  {
   "cell_type": "code",
   "execution_count": 1,
   "metadata": {
    "collapsed": true
   },
   "outputs": [],
   "source": [
    "import pandas as pd\n",
    "import numpy as np"
   ]
  },
  {
   "cell_type": "code",
   "execution_count": 2,
   "metadata": {
    "collapsed": true
   },
   "outputs": [],
   "source": [
    "train = pd.read_csv('train.csv')"
   ]
  },
  {
   "cell_type": "code",
   "execution_count": 19,
   "metadata": {},
   "outputs": [
    {
     "data": {
      "text/html": [
       "<div>\n",
       "<style>\n",
       "    .dataframe thead tr:only-child th {\n",
       "        text-align: right;\n",
       "    }\n",
       "\n",
       "    .dataframe thead th {\n",
       "        text-align: left;\n",
       "    }\n",
       "\n",
       "    .dataframe tbody tr th {\n",
       "        vertical-align: top;\n",
       "    }\n",
       "</style>\n",
       "<table border=\"1\" class=\"dataframe\">\n",
       "  <thead>\n",
       "    <tr style=\"text-align: right;\">\n",
       "      <th></th>\n",
       "      <th>user_id</th>\n",
       "      <th>session_id</th>\n",
       "      <th>timestamp</th>\n",
       "      <th>step</th>\n",
       "      <th>action_type</th>\n",
       "      <th>reference</th>\n",
       "      <th>platform</th>\n",
       "      <th>city</th>\n",
       "      <th>device</th>\n",
       "      <th>current_filters</th>\n",
       "      <th>impressions</th>\n",
       "      <th>prices</th>\n",
       "    </tr>\n",
       "  </thead>\n",
       "  <tbody>\n",
       "    <tr>\n",
       "      <th>278</th>\n",
       "      <td>0L2TX0JNYVQ6</td>\n",
       "      <td>06e7c29170946</td>\n",
       "      <td>1541041830</td>\n",
       "      <td>1</td>\n",
       "      <td>search for poi</td>\n",
       "      <td>Seoul Station</td>\n",
       "      <td>HK</td>\n",
       "      <td>Seoul, South Korea</td>\n",
       "      <td>desktop</td>\n",
       "      <td>NaN</td>\n",
       "      <td>NaN</td>\n",
       "      <td>NaN</td>\n",
       "    </tr>\n",
       "    <tr>\n",
       "      <th>279</th>\n",
       "      <td>0L2TX0JNYVQ6</td>\n",
       "      <td>06e7c29170946</td>\n",
       "      <td>1541041870</td>\n",
       "      <td>2</td>\n",
       "      <td>clickout item</td>\n",
       "      <td>10091602</td>\n",
       "      <td>HK</td>\n",
       "      <td>Seoul, South Korea</td>\n",
       "      <td>desktop</td>\n",
       "      <td>NaN</td>\n",
       "      <td>2802232|2733571|5477718|155374|155465|3549258|...</td>\n",
       "      <td>124|176|99|220|191|127|85|54|83|268|78|144|96|...</td>\n",
       "    </tr>\n",
       "    <tr>\n",
       "      <th>280</th>\n",
       "      <td>0L2TX0JNYVQ6</td>\n",
       "      <td>06e7c29170946</td>\n",
       "      <td>1541041882</td>\n",
       "      <td>3</td>\n",
       "      <td>interaction item deals</td>\n",
       "      <td>10091602</td>\n",
       "      <td>HK</td>\n",
       "      <td>Seoul, South Korea</td>\n",
       "      <td>desktop</td>\n",
       "      <td>NaN</td>\n",
       "      <td>NaN</td>\n",
       "      <td>NaN</td>\n",
       "    </tr>\n",
       "    <tr>\n",
       "      <th>281</th>\n",
       "      <td>0L2TX0JNYVQ6</td>\n",
       "      <td>06e7c29170946</td>\n",
       "      <td>1541044143</td>\n",
       "      <td>4</td>\n",
       "      <td>search for poi</td>\n",
       "      <td>Myeongdong</td>\n",
       "      <td>HK</td>\n",
       "      <td>Seoul, South Korea</td>\n",
       "      <td>desktop</td>\n",
       "      <td>NaN</td>\n",
       "      <td>NaN</td>\n",
       "      <td>NaN</td>\n",
       "    </tr>\n",
       "    <tr>\n",
       "      <th>282</th>\n",
       "      <td>0L2TX0JNYVQ6</td>\n",
       "      <td>06e7c29170946</td>\n",
       "      <td>1541044151</td>\n",
       "      <td>5</td>\n",
       "      <td>clickout item</td>\n",
       "      <td>10091602</td>\n",
       "      <td>HK</td>\n",
       "      <td>Seoul, South Korea</td>\n",
       "      <td>desktop</td>\n",
       "      <td>NaN</td>\n",
       "      <td>3549258|155465|155374|363046|3954788|4773608|3...</td>\n",
       "      <td>135|189|219|78|74|135|95|85|176|99|108|83|87|3...</td>\n",
       "    </tr>\n",
       "  </tbody>\n",
       "</table>\n",
       "</div>"
      ],
      "text/plain": [
       "          user_id     session_id   timestamp  step             action_type  \\\n",
       "278  0L2TX0JNYVQ6  06e7c29170946  1541041830     1          search for poi   \n",
       "279  0L2TX0JNYVQ6  06e7c29170946  1541041870     2           clickout item   \n",
       "280  0L2TX0JNYVQ6  06e7c29170946  1541041882     3  interaction item deals   \n",
       "281  0L2TX0JNYVQ6  06e7c29170946  1541044143     4          search for poi   \n",
       "282  0L2TX0JNYVQ6  06e7c29170946  1541044151     5           clickout item   \n",
       "\n",
       "         reference platform                city   device current_filters  \\\n",
       "278  Seoul Station       HK  Seoul, South Korea  desktop             NaN   \n",
       "279       10091602       HK  Seoul, South Korea  desktop             NaN   \n",
       "280       10091602       HK  Seoul, South Korea  desktop             NaN   \n",
       "281     Myeongdong       HK  Seoul, South Korea  desktop             NaN   \n",
       "282       10091602       HK  Seoul, South Korea  desktop             NaN   \n",
       "\n",
       "                                           impressions  \\\n",
       "278                                                NaN   \n",
       "279  2802232|2733571|5477718|155374|155465|3549258|...   \n",
       "280                                                NaN   \n",
       "281                                                NaN   \n",
       "282  3549258|155465|155374|363046|3954788|4773608|3...   \n",
       "\n",
       "                                                prices  \n",
       "278                                                NaN  \n",
       "279  124|176|99|220|191|127|85|54|83|268|78|144|96|...  \n",
       "280                                                NaN  \n",
       "281                                                NaN  \n",
       "282  135|189|219|78|74|135|95|85|176|99|108|83|87|3...  "
      ]
     },
     "execution_count": 19,
     "metadata": {},
     "output_type": "execute_result"
    }
   ],
   "source": [
    "korea = train[train[\"city\"] == \"Seoul, South Korea\"]\n",
    "korea.head()"
   ]
  },
  {
   "cell_type": "code",
   "execution_count": 21,
   "metadata": {},
   "outputs": [
    {
     "data": {
      "text/plain": [
       "(33601, 12)"
      ]
     },
     "execution_count": 21,
     "metadata": {},
     "output_type": "execute_result"
    }
   ],
   "source": [
    "korea.shape"
   ]
  },
  {
   "cell_type": "code",
   "execution_count": 9,
   "metadata": {},
   "outputs": [],
   "source": [
    "import os\n",
    "korea_save_path = os.path.abspath('korea.csv')\n",
    "korea.to_csv(path_or_buf = korea_save_path)"
   ]
  },
  {
   "cell_type": "code",
   "execution_count": 15,
   "metadata": {},
   "outputs": [
    {
     "data": {
      "text/plain": [
       "(1026,)"
      ]
     },
     "execution_count": 15,
     "metadata": {},
     "output_type": "execute_result"
    }
   ],
   "source": [
    "korea.reference.unique().shape"
   ]
  },
  {
   "cell_type": "code",
   "execution_count": 17,
   "metadata": {},
   "outputs": [],
   "source": [
    "korea.loc[korea.reference.str.isnumeric()==False].to_csv(path_or_buf = os.path.abspath('korea_ref.csv'))\n",
    "# popHotel.loc[popHotel.index.str.isnumeric()==True]"
   ]
  },
  {
   "cell_type": "code",
   "execution_count": 30,
   "metadata": {},
   "outputs": [],
   "source": [
    "a = korea.loc[korea.reference.str.isnumeric()==False]\n",
    "pd.DataFrame(a.reference.unique()).to_csv(path_or_buf = os.path.abspath('korea_ref_unique.csv'))"
   ]
  },
  {
   "cell_type": "code",
   "execution_count": null,
   "metadata": {
    "collapsed": true
   },
   "outputs": [],
   "source": []
  }
 ],
 "metadata": {
  "kernelspec": {
   "display_name": "Python 3",
   "language": "python",
   "name": "python3"
  },
  "language_info": {
   "codemirror_mode": {
    "name": "ipython",
    "version": 3
   },
   "file_extension": ".py",
   "mimetype": "text/x-python",
   "name": "python",
   "nbconvert_exporter": "python",
   "pygments_lexer": "ipython3",
   "version": "3.5.3"
  }
 },
 "nbformat": 4,
 "nbformat_minor": 2
}
